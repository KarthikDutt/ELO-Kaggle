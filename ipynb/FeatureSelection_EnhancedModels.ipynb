{
 "cells": [
  {
   "cell_type": "code",
   "execution_count": 1,
   "metadata": {},
   "outputs": [
    {
     "name": "stderr",
     "output_type": "stream",
     "text": [
      "C:\\Users\\Siddi\\Anaconda3\\lib\\site-packages\\statsmodels\\compat\\pandas.py:56: FutureWarning: The pandas.core.datetools module is deprecated and will be removed in a future version. Please use the pandas.tseries module instead.\n",
      "  from pandas.core import datetools\n",
      "C:\\Users\\Siddi\\Anaconda3\\lib\\site-packages\\sklearn\\ensemble\\weight_boosting.py:29: DeprecationWarning: numpy.core.umath_tests is an internal NumPy module and should not be imported. It will be removed in a future NumPy release.\n",
      "  from numpy.core.umath_tests import inner1d\n"
     ]
    }
   ],
   "source": [
    "import pandas as pd\n",
    "import matplotlib.pyplot as plt\n",
    "import numpy as np\n",
    "import seaborn as sns\n",
    "import statsmodels.api as sm\n",
    "from statsmodels.formula.api import ols\n",
    "from sklearn.ensemble import RandomForestRegressor\n",
    "from sklearn.metrics import mean_squared_error\n",
    "from sklearn.model_selection import cross_val_score\n",
    "from sklearn.preprocessing import StandardScaler,MinMaxScaler\n",
    "from sklearn.pipeline import Pipeline\n",
    "from sklearn import preprocessing\n",
    "from sklearn_pandas import DataFrameMapper\n",
    "from sklearn.preprocessing import Imputer"
   ]
  },
  {
   "cell_type": "code",
   "execution_count": 2,
   "metadata": {},
   "outputs": [],
   "source": [
    "train_data_df=pd.read_csv('train_set.csv')\n",
    "test_data_df=pd.read_csv('test_set.csv')"
   ]
  },
  {
   "cell_type": "code",
   "execution_count": 38,
   "metadata": {},
   "outputs": [],
   "source": [
    "test_set=test_data_df.values"
   ]
  },
  {
   "cell_type": "code",
   "execution_count": 37,
   "metadata": {},
   "outputs": [],
   "source": [
    "test_orig=pd.read_csv('test.csv')\n",
    "submission_df=pd.DataFrame(columns=['card_id','target'])\n",
    "submission_df['card_id']=test_orig['card_id']"
   ]
  },
  {
   "cell_type": "code",
   "execution_count": 4,
   "metadata": {},
   "outputs": [],
   "source": [
    "train_orig=pd.read_csv('train.csv')\n",
    "train_labels=train_orig['target']"
   ]
  },
  {
   "cell_type": "code",
   "execution_count": 6,
   "metadata": {},
   "outputs": [
    {
     "data": {
      "text/plain": [
       "(201917,)"
      ]
     },
     "execution_count": 6,
     "metadata": {},
     "output_type": "execute_result"
    }
   ],
   "source": [
    "train_labels.shape"
   ]
  },
  {
   "cell_type": "code",
   "execution_count": 7,
   "metadata": {},
   "outputs": [
    {
     "data": {
      "text/plain": [
       "(201917, 378)"
      ]
     },
     "execution_count": 7,
     "metadata": {},
     "output_type": "execute_result"
    }
   ],
   "source": [
    "train_data_df.shape"
   ]
  },
  {
   "cell_type": "code",
   "execution_count": 8,
   "metadata": {},
   "outputs": [],
   "source": [
    "play_ground=pd.concat([train_data_df,train_labels],axis=1)"
   ]
  },
  {
   "cell_type": "code",
   "execution_count": 12,
   "metadata": {},
   "outputs": [
    {
     "data": {
      "text/html": [
       "<div>\n",
       "<style scoped>\n",
       "    .dataframe tbody tr th:only-of-type {\n",
       "        vertical-align: middle;\n",
       "    }\n",
       "\n",
       "    .dataframe tbody tr th {\n",
       "        vertical-align: top;\n",
       "    }\n",
       "\n",
       "    .dataframe thead th {\n",
       "        text-align: right;\n",
       "    }\n",
       "</style>\n",
       "<table border=\"1\" class=\"dataframe\">\n",
       "  <thead>\n",
       "    <tr style=\"text-align: right;\">\n",
       "      <th></th>\n",
       "      <th>0</th>\n",
       "      <th>1</th>\n",
       "      <th>3</th>\n",
       "      <th>5</th>\n",
       "      <th>6</th>\n",
       "      <th>7</th>\n",
       "      <th>8</th>\n",
       "      <th>9</th>\n",
       "      <th>10</th>\n",
       "      <th>13</th>\n",
       "      <th>...</th>\n",
       "      <th>379</th>\n",
       "      <th>380</th>\n",
       "      <th>381</th>\n",
       "      <th>382</th>\n",
       "      <th>383</th>\n",
       "      <th>384</th>\n",
       "      <th>385</th>\n",
       "      <th>386</th>\n",
       "      <th>387</th>\n",
       "      <th>target</th>\n",
       "    </tr>\n",
       "  </thead>\n",
       "  <tbody>\n",
       "    <tr>\n",
       "      <th>64</th>\n",
       "      <td>0.589149</td>\n",
       "      <td>-0.117859</td>\n",
       "      <td>0.152956</td>\n",
       "      <td>-0.333469</td>\n",
       "      <td>0.062942</td>\n",
       "      <td>0.140756</td>\n",
       "      <td>-0.208844</td>\n",
       "      <td>0.701870</td>\n",
       "      <td>-0.002708</td>\n",
       "      <td>0.177457</td>\n",
       "      <td>...</td>\n",
       "      <td>0.0</td>\n",
       "      <td>1.0</td>\n",
       "      <td>0.0</td>\n",
       "      <td>0.0</td>\n",
       "      <td>0.0</td>\n",
       "      <td>0.0</td>\n",
       "      <td>1.0</td>\n",
       "      <td>0.0</td>\n",
       "      <td>0.0</td>\n",
       "      <td>-33.219281</td>\n",
       "    </tr>\n",
       "    <tr>\n",
       "      <th>92</th>\n",
       "      <td>-1.597649</td>\n",
       "      <td>-0.490565</td>\n",
       "      <td>-0.760018</td>\n",
       "      <td>-0.420192</td>\n",
       "      <td>-0.721684</td>\n",
       "      <td>-0.641142</td>\n",
       "      <td>-0.371417</td>\n",
       "      <td>-1.462928</td>\n",
       "      <td>-0.002855</td>\n",
       "      <td>-1.141235</td>\n",
       "      <td>...</td>\n",
       "      <td>0.0</td>\n",
       "      <td>0.0</td>\n",
       "      <td>0.0</td>\n",
       "      <td>1.0</td>\n",
       "      <td>0.0</td>\n",
       "      <td>0.0</td>\n",
       "      <td>0.0</td>\n",
       "      <td>1.0</td>\n",
       "      <td>0.0</td>\n",
       "      <td>-33.219281</td>\n",
       "    </tr>\n",
       "  </tbody>\n",
       "</table>\n",
       "<p>2 rows × 379 columns</p>\n",
       "</div>"
      ],
      "text/plain": [
       "           0         1         3         5         6         7         8  \\\n",
       "64  0.589149 -0.117859  0.152956 -0.333469  0.062942  0.140756 -0.208844   \n",
       "92 -1.597649 -0.490565 -0.760018 -0.420192 -0.721684 -0.641142 -0.371417   \n",
       "\n",
       "           9        10        13    ...      379  380  381  382  383  384  \\\n",
       "64  0.701870 -0.002708  0.177457    ...      0.0  1.0  0.0  0.0  0.0  0.0   \n",
       "92 -1.462928 -0.002855 -1.141235    ...      0.0  0.0  0.0  1.0  0.0  0.0   \n",
       "\n",
       "    385  386  387     target  \n",
       "64  1.0  0.0  0.0 -33.219281  \n",
       "92  0.0  1.0  0.0 -33.219281  \n",
       "\n",
       "[2 rows x 379 columns]"
      ]
     },
     "execution_count": 12,
     "metadata": {},
     "output_type": "execute_result"
    }
   ],
   "source": [
    "play_ground[play_ground['target']<-10].head(2)"
   ]
  },
  {
   "cell_type": "code",
   "execution_count": 13,
   "metadata": {},
   "outputs": [
    {
     "data": {
      "text/html": [
       "<div>\n",
       "<style scoped>\n",
       "    .dataframe tbody tr th:only-of-type {\n",
       "        vertical-align: middle;\n",
       "    }\n",
       "\n",
       "    .dataframe tbody tr th {\n",
       "        vertical-align: top;\n",
       "    }\n",
       "\n",
       "    .dataframe thead th {\n",
       "        text-align: right;\n",
       "    }\n",
       "</style>\n",
       "<table border=\"1\" class=\"dataframe\">\n",
       "  <thead>\n",
       "    <tr style=\"text-align: right;\">\n",
       "      <th></th>\n",
       "      <th>0</th>\n",
       "      <th>1</th>\n",
       "      <th>3</th>\n",
       "      <th>5</th>\n",
       "      <th>6</th>\n",
       "      <th>7</th>\n",
       "      <th>8</th>\n",
       "      <th>9</th>\n",
       "      <th>10</th>\n",
       "      <th>13</th>\n",
       "      <th>...</th>\n",
       "      <th>379</th>\n",
       "      <th>380</th>\n",
       "      <th>381</th>\n",
       "      <th>382</th>\n",
       "      <th>383</th>\n",
       "      <th>384</th>\n",
       "      <th>385</th>\n",
       "      <th>386</th>\n",
       "      <th>387</th>\n",
       "      <th>target</th>\n",
       "    </tr>\n",
       "  </thead>\n",
       "  <tbody>\n",
       "    <tr>\n",
       "      <th>0</th>\n",
       "      <td>0.516844</td>\n",
       "      <td>1.630996</td>\n",
       "      <td>-0.746499</td>\n",
       "      <td>0.996294</td>\n",
       "      <td>1.980917</td>\n",
       "      <td>1.965184</td>\n",
       "      <td>0.604022</td>\n",
       "      <td>-0.033222</td>\n",
       "      <td>-0.002778</td>\n",
       "      <td>0.177457</td>\n",
       "      <td>...</td>\n",
       "      <td>0.0</td>\n",
       "      <td>1.0</td>\n",
       "      <td>0.0</td>\n",
       "      <td>0.0</td>\n",
       "      <td>1.0</td>\n",
       "      <td>0.0</td>\n",
       "      <td>0.0</td>\n",
       "      <td>0.0</td>\n",
       "      <td>0.0</td>\n",
       "      <td>-0.820283</td>\n",
       "    </tr>\n",
       "    <tr>\n",
       "      <th>1</th>\n",
       "      <td>0.656461</td>\n",
       "      <td>2.510201</td>\n",
       "      <td>0.625491</td>\n",
       "      <td>0.793939</td>\n",
       "      <td>3.375808</td>\n",
       "      <td>3.528981</td>\n",
       "      <td>0.400805</td>\n",
       "      <td>-0.552516</td>\n",
       "      <td>-0.002743</td>\n",
       "      <td>0.177457</td>\n",
       "      <td>...</td>\n",
       "      <td>0.0</td>\n",
       "      <td>0.0</td>\n",
       "      <td>0.0</td>\n",
       "      <td>0.0</td>\n",
       "      <td>1.0</td>\n",
       "      <td>0.0</td>\n",
       "      <td>0.0</td>\n",
       "      <td>0.0</td>\n",
       "      <td>0.0</td>\n",
       "      <td>0.392913</td>\n",
       "    </tr>\n",
       "  </tbody>\n",
       "</table>\n",
       "<p>2 rows × 379 columns</p>\n",
       "</div>"
      ],
      "text/plain": [
       "          0         1         3         5         6         7         8  \\\n",
       "0  0.516844  1.630996 -0.746499  0.996294  1.980917  1.965184  0.604022   \n",
       "1  0.656461  2.510201  0.625491  0.793939  3.375808  3.528981  0.400805   \n",
       "\n",
       "          9        10        13    ...     379  380  381  382  383  384  385  \\\n",
       "0 -0.033222 -0.002778  0.177457    ...     0.0  1.0  0.0  0.0  1.0  0.0  0.0   \n",
       "1 -0.552516 -0.002743  0.177457    ...     0.0  0.0  0.0  0.0  1.0  0.0  0.0   \n",
       "\n",
       "   386  387    target  \n",
       "0  0.0  0.0 -0.820283  \n",
       "1  0.0  0.0  0.392913  \n",
       "\n",
       "[2 rows x 379 columns]"
      ]
     },
     "execution_count": 13,
     "metadata": {},
     "output_type": "execute_result"
    }
   ],
   "source": [
    "play_ground[play_ground['target']<1].head(2)"
   ]
  },
  {
   "cell_type": "code",
   "execution_count": 25,
   "metadata": {},
   "outputs": [
    {
     "name": "stderr",
     "output_type": "stream",
     "text": [
      "C:\\Users\\Siddi\\Anaconda3\\lib\\site-packages\\scipy\\stats\\stats.py:1706: FutureWarning: Using a non-tuple sequence for multidimensional indexing is deprecated; use `arr[tuple(seq)]` instead of `arr[seq]`. In the future this will be interpreted as an array index, `arr[np.array(seq)]`, which will result either in an error or a different result.\n",
      "  return np.add.reduce(sorted[indexer] * weights, axis=axis) / sumval\n"
     ]
    },
    {
     "data": {
      "image/png": "[encoded data removed]",
      "text/plain": [
       "<matplotlib.figure.Figure at 0x2371e9b22b0>"
      ]
     },
     "metadata": {},
     "output_type": "display_data"
    }
   ],
   "source": [
    "import matplotlib.ticker as ticker\n",
    "fig = plt.figure(figsize=(15,8))\n",
    "grid = plt.GridSpec(2, 5, wspace=0.5, hspace=0.5)\n",
    "plt.subplot(grid[0, 0])\n",
    "dfSample = play_ground.sample(1000) # This is the importante line\n",
    "xdataSample, ydataSample = dfSample[\"0\"], dfSample[\"target\"]\n",
    "sns.regplot(x=xdataSample, y=ydataSample) \n",
    "plt.subplot(grid[0, 1])\n",
    "dfSample = play_ground.sample(1000) # This is the importante line\n",
    "xdataSample, ydataSample = dfSample[\"1\"], dfSample[\"target\"]\n",
    "sns.regplot(x=xdataSample, y=ydataSample) \n",
    "plt.subplot(grid[0, 2])\n",
    "dfSample = play_ground.sample(1000) # This is the importante line\n",
    "xdataSample, ydataSample = dfSample[\"3\"], dfSample[\"target\"]\n",
    "sns.regplot(x=xdataSample, y=ydataSample) \n",
    "plt.subplot(grid[0, 3])\n",
    "dfSample = play_ground.sample(1000) # This is the importante line\n",
    "xdataSample, ydataSample = dfSample[\"5\"], dfSample[\"target\"]\n",
    "sns.regplot(x=xdataSample, y=ydataSample) \n",
    "plt.subplot(grid[0, 4])\n",
    "dfSample = play_ground.sample(1000) # This is the importante line\n",
    "xdataSample, ydataSample = dfSample[\"6\"], dfSample[\"target\"]\n",
    "sns.regplot(x=xdataSample, y=ydataSample)\n",
    "plt.subplot(grid[1, 0])\n",
    "dfSample = play_ground.sample(1000) # This is the importante line\n",
    "xdataSample, ydataSample = dfSample[\"7\"], dfSample[\"target\"]\n",
    "sns.regplot(x=xdataSample, y=ydataSample) \n",
    "plt.subplot(grid[1, 1])\n",
    "dfSample = play_ground.sample(1000) # This is the importante line\n",
    "xdataSample, ydataSample = dfSample[\"8\"], dfSample[\"target\"]\n",
    "sns.regplot(x=xdataSample, y=ydataSample) \n",
    "plt.subplot(grid[1, 2])\n",
    "dfSample = play_ground.sample(1000) # This is the importante line\n",
    "xdataSample, ydataSample = dfSample[\"9\"], dfSample[\"target\"]\n",
    "sns.regplot(x=xdataSample, y=ydataSample) \n",
    "plt.subplot(grid[1, 3])\n",
    "dfSample = play_ground.sample(1000) # This is the importante line\n",
    "xdataSample, ydataSample = dfSample[\"10\"], dfSample[\"target\"]\n",
    "sns.regplot(x=xdataSample, y=ydataSample) \n",
    "plt.subplot(grid[1, 4])\n",
    "dfSample = play_ground.sample(1000) # This is the importante line\n",
    "xdataSample, ydataSample = dfSample[\"13\"], dfSample[\"target\"]\n",
    "sns.regplot(x=xdataSample, y=ydataSample)\n",
    "plt.show()"
   ]
  },
  {
   "cell_type": "code",
   "execution_count": 23,
   "metadata": {},
   "outputs": [
    {
     "data": {
      "text/plain": [
       "-0.02343689"
      ]
     },
     "execution_count": 23,
     "metadata": {},
     "output_type": "execute_result"
    }
   ],
   "source": [
    "play_ground['target'].median()"
   ]
  },
  {
   "cell_type": "code",
   "execution_count": 24,
   "metadata": {},
   "outputs": [],
   "source": [
    "play_ground.loc[(play_ground['target']>10)|(play_ground['target']<-10),'target']=play_ground['target'].median()"
   ]
  },
  {
   "cell_type": "code",
   "execution_count": 107,
   "metadata": {},
   "outputs": [],
   "source": [
    "model = RandomForestRegressor(n_estimators=100, random_state=10, \n",
    "                               n_jobs = -1)"
   ]
  },
  {
   "cell_type": "code",
   "execution_count": 27,
   "metadata": {},
   "outputs": [],
   "source": [
    "train_labels=play_ground['target'].values"
   ]
  },
  {
   "cell_type": "code",
   "execution_count": 29,
   "metadata": {},
   "outputs": [],
   "source": [
    "play_ground=play_ground.drop(['target'],axis=1)"
   ]
  },
  {
   "cell_type": "code",
   "execution_count": 30,
   "metadata": {},
   "outputs": [],
   "source": [
    "train_set=play_ground.values"
   ]
  },
  {
   "cell_type": "code",
   "execution_count": 32,
   "metadata": {},
   "outputs": [
    {
     "data": {
      "text/plain": [
       "(201917,)"
      ]
     },
     "execution_count": 32,
     "metadata": {},
     "output_type": "execute_result"
    }
   ],
   "source": [
    "train_labels.shape"
   ]
  },
  {
   "cell_type": "code",
   "execution_count": 33,
   "metadata": {},
   "outputs": [
    {
     "name": "stderr",
     "output_type": "stream",
     "text": [
      "C:\\Users\\Siddi\\Anaconda3\\lib\\site-packages\\sklearn\\metrics\\scorer.py:100: DeprecationWarning: Scoring method mean_squared_error was renamed to neg_mean_squared_error in version 0.18 and will be removed in 0.20.\n",
      "  sample_weight=sample_weight)\n",
      "C:\\Users\\Siddi\\Anaconda3\\lib\\site-packages\\sklearn\\metrics\\scorer.py:100: DeprecationWarning: Scoring method mean_squared_error was renamed to neg_mean_squared_error in version 0.18 and will be removed in 0.20.\n",
      "  sample_weight=sample_weight)\n",
      "C:\\Users\\Siddi\\Anaconda3\\lib\\site-packages\\sklearn\\metrics\\scorer.py:100: DeprecationWarning: Scoring method mean_squared_error was renamed to neg_mean_squared_error in version 0.18 and will be removed in 0.20.\n",
      "  sample_weight=sample_weight)\n",
      "C:\\Users\\Siddi\\Anaconda3\\lib\\site-packages\\sklearn\\metrics\\scorer.py:100: DeprecationWarning: Scoring method mean_squared_error was renamed to neg_mean_squared_error in version 0.18 and will be removed in 0.20.\n",
      "  sample_weight=sample_weight)\n",
      "C:\\Users\\Siddi\\Anaconda3\\lib\\site-packages\\sklearn\\metrics\\scorer.py:100: DeprecationWarning: Scoring method mean_squared_error was renamed to neg_mean_squared_error in version 0.18 and will be removed in 0.20.\n",
      "  sample_weight=sample_weight)\n"
     ]
    }
   ],
   "source": [
    "cv_score = cross_val_score(model, train_set, train_labels, cv = 5, scoring = 'mean_squared_error')"
   ]
  },
  {
   "cell_type": "code",
   "execution_count": 35,
   "metadata": {},
   "outputs": [
    {
     "name": "stdout",
     "output_type": "stream",
     "text": [
      "5 Fold Cross Validation F1 Score = -2.8563 with std = 0.0309\n"
     ]
    }
   ],
   "source": [
    "print(f'5 Fold Cross Validation F1 Score = {round(cv_score.mean(), 4)} with std = {round(cv_score.std(), 4)}')"
   ]
  },
  {
   "cell_type": "code",
   "execution_count": 108,
   "metadata": {},
   "outputs": [
    {
     "data": {
      "text/plain": [
       "RandomForestRegressor(bootstrap=True, criterion='mse', max_depth=None,\n",
       "           max_features='auto', max_leaf_nodes=None,\n",
       "           min_impurity_decrease=0.0, min_impurity_split=None,\n",
       "           min_samples_leaf=1, min_samples_split=2,\n",
       "           min_weight_fraction_leaf=0.0, n_estimators=100, n_jobs=-1,\n",
       "           oob_score=False, random_state=10, verbose=0, warm_start=False)"
      ]
     },
     "execution_count": 108,
     "metadata": {},
     "output_type": "execute_result"
    }
   ],
   "source": [
    "model.fit(train_set, train_labels)"
   ]
  },
  {
   "cell_type": "code",
   "execution_count": 109,
   "metadata": {},
   "outputs": [],
   "source": [
    "test_labels=model.predict(test_set)"
   ]
  },
  {
   "cell_type": "code",
   "execution_count": 110,
   "metadata": {},
   "outputs": [],
   "source": [
    "submission_df['target']=test_labels"
   ]
  },
  {
   "cell_type": "code",
   "execution_count": 111,
   "metadata": {},
   "outputs": [],
   "source": [
    "submission_df.target = submission_df.target.round(2)\n",
    "submission_df.to_csv('submission_3.csv',index=False)"
   ]
  },
  {
   "cell_type": "code",
   "execution_count": 43,
   "metadata": {},
   "outputs": [],
   "source": [
    "from sklearn.externals import joblib"
   ]
  },
  {
   "cell_type": "code",
   "execution_count": 44,
   "metadata": {},
   "outputs": [],
   "source": [
    "filename = './Base_RF_imputed_Outliers_No_FS.joblib.pkl'\n",
    "_ = joblib.dump(model, filename, compress=9)"
   ]
  },
  {
   "cell_type": "code",
   "execution_count": 45,
   "metadata": {},
   "outputs": [],
   "source": [
    "import warnings \n",
    "from sklearn.exceptions import ConvergenceWarning\n",
    "\n",
    "# Filter out warnings from models\n",
    "warnings.filterwarnings('ignore', category = ConvergenceWarning)\n",
    "warnings.filterwarnings('ignore', category = DeprecationWarning)\n",
    "warnings.filterwarnings('ignore', category = UserWarning)\n",
    "\n",
    "# Dataframe to hold results\n",
    "model_results = pd.DataFrame(columns = ['model', 'cv_mean', 'cv_std'])\n",
    "\n",
    "def cv_model(train, train_labels, model, name, model_results=None):\n",
    "    \"\"\"Perform 10 fold cross validation of a model\"\"\"\n",
    "    \n",
    "    cv_scores = cross_val_score(model, train, train_labels, cv = 5, scoring='mean_squared_error', n_jobs = -1)\n",
    "    print(f'5 Fold CV Score: {round(cv_scores.mean(), 5)} with std: {round(cv_scores.std(), 5)}')\n",
    "    \n",
    "    if model_results is not None:\n",
    "        model_results = model_results.append(pd.DataFrame({'model': name, \n",
    "                                                           'cv_mean': cv_scores.mean(), \n",
    "                                                            'cv_std': cv_scores.std()},\n",
    "                                                           index = [0]),\n",
    "                                             ignore_index = True)\n",
    "\n",
    "        return model_results"
   ]
  },
  {
   "cell_type": "code",
   "execution_count": 47,
   "metadata": {},
   "outputs": [
    {
     "name": "stdout",
     "output_type": "stream",
     "text": [
      "5 Fold CV Score: -3.52209 with std: 0.1239\n"
     ]
    }
   ],
   "source": [
    "from sklearn.neural_network import MLPRegressor\n",
    "model_results = cv_model(train_set, train_labels, \n",
    "                         MLPRegressor(hidden_layer_sizes=(32, 64, 128, 64, 32)),\n",
    "                         'MLP', model_results)"
   ]
  },
  {
   "cell_type": "code",
   "execution_count": null,
   "metadata": {},
   "outputs": [],
   "source": [
    "dfSample"
   ]
  },
  {
   "cell_type": "code",
   "execution_count": 51,
   "metadata": {},
   "outputs": [
    {
     "data": {
      "text/plain": [
       "RFECV(cv=3,\n",
       "   estimator=RandomForestRegressor(bootstrap=True, criterion='mse', max_depth=None,\n",
       "           max_features='auto', max_leaf_nodes=None,\n",
       "           min_impurity_decrease=0.0, min_impurity_split=None,\n",
       "           min_samples_leaf=1, min_samples_split=2,\n",
       "           min_weight_fraction_leaf=0.0, n_estimators=100, n_jobs=-1,\n",
       "           oob_score=False, random_state=10, verbose=0, warm_start=False),\n",
       "   n_jobs=-1, scoring='mean_squared_error', step=1, verbose=1)"
      ]
     },
     "execution_count": 51,
     "metadata": {},
     "output_type": "execute_result"
    }
   ],
   "source": [
    "train_labels_2=train_orig['target']\n",
    "play_ground=pd.concat([train_data_df,train_labels_2],axis=1)\n",
    "dfSample = play_ground.sample(5000)\n",
    "train_sample_label=dfSample['target'].values\n",
    "dfSample=dfSample.drop(['target'],axis=1)\n",
    "train_sample=dfSample.values\n",
    "from sklearn.feature_selection import RFECV\n",
    "estimator = RandomForestRegressor(random_state = 10, n_estimators = 100,  n_jobs = -1)\n",
    "selector = RFECV(estimator, step = 1, cv = 3, scoring= 'mean_squared_error', n_jobs = -1,verbose=1)\n",
    "selector.fit(train_sample, train_sample_label)"
   ]
  },
  {
   "cell_type": "code",
   "execution_count": 71,
   "metadata": {},
   "outputs": [
    {
     "data": {
      "text/plain": [
       "(5000, 378)"
      ]
     },
     "execution_count": 71,
     "metadata": {},
     "output_type": "execute_result"
    }
   ],
   "source": [
    "dfSample.shape"
   ]
  },
  {
   "cell_type": "code",
   "execution_count": 53,
   "metadata": {},
   "outputs": [
    {
     "data": {
      "text/plain": [
       "5"
      ]
     },
     "execution_count": 53,
     "metadata": {},
     "output_type": "execute_result"
    },
    {
     "data": {
      "image/png": "[encoded data removed]",
      "text/plain": [
       "<matplotlib.figure.Figure at 0x2371ed468d0>"
      ]
     },
     "metadata": {},
     "output_type": "display_data"
    }
   ],
   "source": [
    "plt.plot(selector.grid_scores_);\n",
    "\n",
    "plt.xlabel('Number of Features'); plt.ylabel('RMSE Score'); plt.title('Feature Selection Scores');\n",
    "selector.n_features_"
   ]
  },
  {
   "cell_type": "code",
   "execution_count": 58,
   "metadata": {},
   "outputs": [
    {
     "data": {
      "text/html": [
       "<div>\n",
       "<style scoped>\n",
       "    .dataframe tbody tr th:only-of-type {\n",
       "        vertical-align: middle;\n",
       "    }\n",
       "\n",
       "    .dataframe tbody tr th {\n",
       "        vertical-align: top;\n",
       "    }\n",
       "\n",
       "    .dataframe thead th {\n",
       "        text-align: right;\n",
       "    }\n",
       "</style>\n",
       "<table border=\"1\" class=\"dataframe\">\n",
       "  <thead>\n",
       "    <tr style=\"text-align: right;\">\n",
       "      <th></th>\n",
       "      <th>feature</th>\n",
       "      <th>rank</th>\n",
       "    </tr>\n",
       "  </thead>\n",
       "  <tbody>\n",
       "    <tr>\n",
       "      <th>0</th>\n",
       "      <td>0</td>\n",
       "      <td>1</td>\n",
       "    </tr>\n",
       "    <tr>\n",
       "      <th>17</th>\n",
       "      <td>22</td>\n",
       "      <td>1</td>\n",
       "    </tr>\n",
       "    <tr>\n",
       "      <th>16</th>\n",
       "      <td>21</td>\n",
       "      <td>1</td>\n",
       "    </tr>\n",
       "    <tr>\n",
       "      <th>8</th>\n",
       "      <td>10</td>\n",
       "      <td>1</td>\n",
       "    </tr>\n",
       "    <tr>\n",
       "      <th>13</th>\n",
       "      <td>18</td>\n",
       "      <td>1</td>\n",
       "    </tr>\n",
       "    <tr>\n",
       "      <th>7</th>\n",
       "      <td>9</td>\n",
       "      <td>2</td>\n",
       "    </tr>\n",
       "    <tr>\n",
       "      <th>1</th>\n",
       "      <td>1</td>\n",
       "      <td>3</td>\n",
       "    </tr>\n",
       "    <tr>\n",
       "      <th>2</th>\n",
       "      <td>3</td>\n",
       "      <td>4</td>\n",
       "    </tr>\n",
       "    <tr>\n",
       "      <th>14</th>\n",
       "      <td>19</td>\n",
       "      <td>5</td>\n",
       "    </tr>\n",
       "    <tr>\n",
       "      <th>12</th>\n",
       "      <td>17</td>\n",
       "      <td>6</td>\n",
       "    </tr>\n",
       "  </tbody>\n",
       "</table>\n",
       "</div>"
      ],
      "text/plain": [
       "   feature  rank\n",
       "0        0     1\n",
       "17      22     1\n",
       "16      21     1\n",
       "8       10     1\n",
       "13      18     1\n",
       "7        9     2\n",
       "1        1     3\n",
       "2        3     4\n",
       "14      19     5\n",
       "12      17     6"
      ]
     },
     "execution_count": 58,
     "metadata": {},
     "output_type": "execute_result"
    }
   ],
   "source": [
    "rankings = pd.DataFrame({'feature': list(dfSample.columns), 'rank': list(selector.ranking_)}).sort_values('rank')\n",
    "rankings.head(10)"
   ]
  },
  {
   "cell_type": "code",
   "execution_count": 59,
   "metadata": {},
   "outputs": [],
   "source": [
    "train_selected = selector.transform(train_set)\n",
    "test_selected = selector.transform(test_set)"
   ]
  },
  {
   "cell_type": "code",
   "execution_count": 60,
   "metadata": {},
   "outputs": [],
   "source": [
    "selected_features = dfSample.columns[np.where(selector.ranking_==1)]\n",
    "train_selected = pd.DataFrame(train_selected, columns = selected_features)\n",
    "test_selected = pd.DataFrame(test_selected, columns = selected_features)"
   ]
  },
  {
   "cell_type": "code",
   "execution_count": 62,
   "metadata": {},
   "outputs": [
    {
     "data": {
      "text/plain": [
       "(123623, 5)"
      ]
     },
     "execution_count": 62,
     "metadata": {},
     "output_type": "execute_result"
    }
   ],
   "source": [
    "test_selected.shape"
   ]
  },
  {
   "cell_type": "code",
   "execution_count": 63,
   "metadata": {},
   "outputs": [
    {
     "name": "stdout",
     "output_type": "stream",
     "text": [
      "5 Fold CV Score: -2.97184 with std: 0.03564\n"
     ]
    }
   ],
   "source": [
    "model_results = cv_model(train_selected, train_labels, model, 'RF-SEL', model_results)"
   ]
  },
  {
   "cell_type": "code",
   "execution_count": 106,
   "metadata": {},
   "outputs": [
    {
     "ename": "KeyboardInterrupt",
     "evalue": "",
     "output_type": "error",
     "traceback": [
      "\u001b[1;31m---------------------------------------------------------------------------\u001b[0m",
      "\u001b[1;31mKeyboardInterrupt\u001b[0m                         Traceback (most recent call last)",
      "\u001b[1;32m<ipython-input-106-30266c3a41dd>\u001b[0m in \u001b[0;36m<module>\u001b[1;34m()\u001b[0m\n\u001b[1;32m----> 1\u001b[1;33m \u001b[0mmodel\u001b[0m\u001b[1;33m.\u001b[0m\u001b[0mfit\u001b[0m\u001b[1;33m(\u001b[0m\u001b[0mtrain_selected\u001b[0m\u001b[1;33m,\u001b[0m \u001b[0mtrain_labels\u001b[0m\u001b[1;33m)\u001b[0m\u001b[1;33m\u001b[0m\u001b[0m\n\u001b[0m",
      "\u001b[1;32m~\\Anaconda3\\lib\\site-packages\\lightgbm\\sklearn.py\u001b[0m in \u001b[0;36mfit\u001b[1;34m(self, X, y, sample_weight, init_score, eval_set, eval_names, eval_sample_weight, eval_init_score, eval_metric, early_stopping_rounds, verbose, feature_name, categorical_feature, callbacks)\u001b[0m\n\u001b[0;32m    640\u001b[0m                                        \u001b[0mverbose\u001b[0m\u001b[1;33m=\u001b[0m\u001b[0mverbose\u001b[0m\u001b[1;33m,\u001b[0m \u001b[0mfeature_name\u001b[0m\u001b[1;33m=\u001b[0m\u001b[0mfeature_name\u001b[0m\u001b[1;33m,\u001b[0m\u001b[1;33m\u001b[0m\u001b[0m\n\u001b[0;32m    641\u001b[0m                                        \u001b[0mcategorical_feature\u001b[0m\u001b[1;33m=\u001b[0m\u001b[0mcategorical_feature\u001b[0m\u001b[1;33m,\u001b[0m\u001b[1;33m\u001b[0m\u001b[0m\n\u001b[1;32m--> 642\u001b[1;33m                                        callbacks=callbacks)\n\u001b[0m\u001b[0;32m    643\u001b[0m         \u001b[1;32mreturn\u001b[0m \u001b[0mself\u001b[0m\u001b[1;33m\u001b[0m\u001b[0m\n\u001b[0;32m    644\u001b[0m \u001b[1;33m\u001b[0m\u001b[0m\n",
      "\u001b[1;32m~\\Anaconda3\\lib\\site-packages\\lightgbm\\sklearn.py\u001b[0m in \u001b[0;36mfit\u001b[1;34m(self, X, y, sample_weight, init_score, group, eval_set, eval_names, eval_sample_weight, eval_class_weight, eval_init_score, eval_group, eval_metric, early_stopping_rounds, verbose, feature_name, categorical_feature, callbacks)\u001b[0m\n\u001b[0;32m    500\u001b[0m                               \u001b[0mverbose_eval\u001b[0m\u001b[1;33m=\u001b[0m\u001b[0mverbose\u001b[0m\u001b[1;33m,\u001b[0m \u001b[0mfeature_name\u001b[0m\u001b[1;33m=\u001b[0m\u001b[0mfeature_name\u001b[0m\u001b[1;33m,\u001b[0m\u001b[1;33m\u001b[0m\u001b[0m\n\u001b[0;32m    501\u001b[0m                               \u001b[0mcategorical_feature\u001b[0m\u001b[1;33m=\u001b[0m\u001b[0mcategorical_feature\u001b[0m\u001b[1;33m,\u001b[0m\u001b[1;33m\u001b[0m\u001b[0m\n\u001b[1;32m--> 502\u001b[1;33m                               callbacks=callbacks)\n\u001b[0m\u001b[0;32m    503\u001b[0m \u001b[1;33m\u001b[0m\u001b[0m\n\u001b[0;32m    504\u001b[0m         \u001b[1;32mif\u001b[0m \u001b[0mevals_result\u001b[0m\u001b[1;33m:\u001b[0m\u001b[1;33m\u001b[0m\u001b[0m\n",
      "\u001b[1;32m~\\Anaconda3\\lib\\site-packages\\lightgbm\\engine.py\u001b[0m in \u001b[0;36mtrain\u001b[1;34m(params, train_set, num_boost_round, valid_sets, valid_names, fobj, feval, init_model, feature_name, categorical_feature, early_stopping_rounds, evals_result, verbose_eval, learning_rates, keep_training_booster, callbacks)\u001b[0m\n\u001b[0;32m    211\u001b[0m                                     evaluation_result_list=None))\n\u001b[0;32m    212\u001b[0m \u001b[1;33m\u001b[0m\u001b[0m\n\u001b[1;32m--> 213\u001b[1;33m         \u001b[0mbooster\u001b[0m\u001b[1;33m.\u001b[0m\u001b[0mupdate\u001b[0m\u001b[1;33m(\u001b[0m\u001b[0mfobj\u001b[0m\u001b[1;33m=\u001b[0m\u001b[0mfobj\u001b[0m\u001b[1;33m)\u001b[0m\u001b[1;33m\u001b[0m\u001b[0m\n\u001b[0m\u001b[0;32m    214\u001b[0m \u001b[1;33m\u001b[0m\u001b[0m\n\u001b[0;32m    215\u001b[0m         \u001b[0mevaluation_result_list\u001b[0m \u001b[1;33m=\u001b[0m \u001b[1;33m[\u001b[0m\u001b[1;33m]\u001b[0m\u001b[1;33m\u001b[0m\u001b[0m\n",
      "\u001b[1;32m~\\Anaconda3\\lib\\site-packages\\lightgbm\\basic.py\u001b[0m in \u001b[0;36mupdate\u001b[1;34m(self, train_set, fobj)\u001b[0m\n\u001b[0;32m   1753\u001b[0m             _safe_call(_LIB.LGBM_BoosterUpdateOneIter(\n\u001b[0;32m   1754\u001b[0m                 \u001b[0mself\u001b[0m\u001b[1;33m.\u001b[0m\u001b[0mhandle\u001b[0m\u001b[1;33m,\u001b[0m\u001b[1;33m\u001b[0m\u001b[0m\n\u001b[1;32m-> 1755\u001b[1;33m                 ctypes.byref(is_finished)))\n\u001b[0m\u001b[0;32m   1756\u001b[0m             \u001b[0mself\u001b[0m\u001b[1;33m.\u001b[0m\u001b[0m__is_predicted_cur_iter\u001b[0m \u001b[1;33m=\u001b[0m \u001b[1;33m[\u001b[0m\u001b[1;32mFalse\u001b[0m \u001b[1;32mfor\u001b[0m \u001b[0m_\u001b[0m \u001b[1;32min\u001b[0m \u001b[0mrange_\u001b[0m\u001b[1;33m(\u001b[0m\u001b[0mself\u001b[0m\u001b[1;33m.\u001b[0m\u001b[0m__num_dataset\u001b[0m\u001b[1;33m)\u001b[0m\u001b[1;33m]\u001b[0m\u001b[1;33m\u001b[0m\u001b[0m\n\u001b[0;32m   1757\u001b[0m             \u001b[1;32mreturn\u001b[0m \u001b[0mis_finished\u001b[0m\u001b[1;33m.\u001b[0m\u001b[0mvalue\u001b[0m \u001b[1;33m==\u001b[0m \u001b[1;36m1\u001b[0m\u001b[1;33m\u001b[0m\u001b[0m\n",
      "\u001b[1;31mKeyboardInterrupt\u001b[0m: "
     ]
    }
   ],
   "source": [
    "model.fit(train_selected, train_labels)"
   ]
  },
  {
   "cell_type": "code",
   "execution_count": 66,
   "metadata": {},
   "outputs": [],
   "source": [
    "test_labels=model.predict(test_selected)\n",
    "submission_df['target']=test_labels\n",
    "submission_df.target = submission_df.target.round(2)\n",
    "submission_df.to_csv('submission_3.csv',index=False)"
   ]
  },
  {
   "cell_type": "code",
   "execution_count": 73,
   "metadata": {},
   "outputs": [],
   "source": [
    "from sklearn.model_selection import KFold\n",
    "import lightgbm as lgb\n",
    "from IPython.display import display"
   ]
  },
  {
   "cell_type": "code",
   "execution_count": 92,
   "metadata": {},
   "outputs": [],
   "source": [
    "def model_gbm(features, labels, test_features, test_ids, \n",
    "              nfolds = 5, return_preds = False, hyp = None):\n",
    "    \"\"\"Model using the GBM and cross validation.\n",
    "       Trains with early stopping on each fold.\n",
    "       Hyperparameters probably need to be tuned.\"\"\"\n",
    "    \n",
    "    feature_names = list(features.columns)# dataframe with training dataset\n",
    "\n",
    "    # Option for user specified hyperparameters\n",
    "    if hyp is not None:\n",
    "        # Using early stopping so do not need number of esimators\n",
    "        if 'n_estimators' in hyp:\n",
    "            del hyp['n_estimators']\n",
    "        params = hyp\n",
    "    \n",
    "    else:\n",
    "        # Model hyperparameters\n",
    "        params = {'boosting_type': 'dart', \n",
    "                  'colsample_bytree': 0.88, \n",
    "                  'learning_rate': 0.028, \n",
    "                   'min_child_samples': 10, \n",
    "                   'num_leaves': 36, 'reg_alpha': 0.76, \n",
    "                   'reg_lambda': 0.43, \n",
    "                   'subsample_for_bin': 40000, \n",
    "                   'subsample': 0.54, \n",
    "                   'class_weight': 'balanced'}\n",
    "    \n",
    "    # Build the model\n",
    "    model = lgb.LGBMRegressor(**params, objective = 'regression', \n",
    "                               n_jobs = -1, n_estimators = 10000,\n",
    "                               random_state = 10)\n",
    "    \n",
    "    # Using stratified kfold cross validation\n",
    "    strkfold = KFold(n_splits = nfolds, shuffle = True)\n",
    "    \n",
    "    # Hold all the predictions from each fold\n",
    "    predictions = pd.DataFrame()\n",
    "    submission=pd.DataFrame()\n",
    "    importances = np.zeros(len(feature_names))\n",
    "    \n",
    "    # Convert to arrays for indexing\n",
    "    features = np.array(features)\n",
    "    test_features = np.array(test_features) #Test dataframe\n",
    "    labels = np.array(labels).reshape((-1 ))\n",
    "    \n",
    "    valid_scores = []\n",
    "    \n",
    "    # Iterate through the folds\n",
    "    for i, (train_indices, valid_indices) in enumerate(strkfold.split(features, labels)):\n",
    "        \n",
    "        # Dataframe for fold predictions\n",
    "        fold_predictions = pd.DataFrame()\n",
    "        \n",
    "        # Training and validation data\n",
    "        X_train = features[train_indices]\n",
    "        X_valid = features[valid_indices]\n",
    "        y_train = labels[train_indices]\n",
    "        y_valid = labels[valid_indices]\n",
    "        \n",
    "        # Train with early stopping\n",
    "        model.fit(X_train, y_train, early_stopping_rounds = 100, \n",
    "                  eval_metric = 'mean_squared_error',\n",
    "                  eval_set = [(X_train, y_train), (X_valid, y_valid)],\n",
    "                  eval_names = ['train', 'valid'],\n",
    "                  verbose = 200)\n",
    "        #print(model.best_score_)\n",
    "        # Record the validation fold score\n",
    "        valid_scores.append(model.best_score_['valid']['l2'])\n",
    "        \n",
    "        # Make predictions from the fold as probabilities\n",
    "        #fold_predictions['preds'] = model.predict(test_features)\n",
    "        \n",
    "        # Record each prediction for each class as a separate column\n",
    "        #for j in range(4):\n",
    "        #    fold_predictions[(j + 1)] = fold_probabilitites[:, j]\n",
    "            \n",
    "        # Add needed information for predictions \n",
    "        #fold_predictions['card_id'] = test_ids\n",
    "        #fold_predictions['fold'] = (i+1)\n",
    "        \n",
    "        \n",
    "        # Add the predictions as new rows to the existing predictions\n",
    "        #predictions = predictions.append(fold_predictions)\n",
    "        \n",
    "        # Feature importances\n",
    "        importances += model.feature_importances_ / nfolds   \n",
    "        \n",
    "        # Display fold information\n",
    "        display(f'Fold {i + 1}, Validation Score: {round(valid_scores[i], 5)}, Estimators Trained: {model.best_iteration_}')\n",
    "\n",
    "    # Feature importances dataframe\n",
    "    feature_importances = pd.DataFrame({'feature': feature_names,\n",
    "                                        'importance': importances})\n",
    "    \n",
    "    valid_scores = np.array(valid_scores)\n",
    "    display(f'{nfolds} cross validation score: {round(valid_scores.mean(), 5)} with std: {round(valid_scores.std(), 5)}.')\n",
    "    \n",
    "    # If we want to examine predictions don't average over folds\n",
    "    if return_preds:\n",
    "        predictions['target'] = predictions[[1, 2, 3, 4]].idxmax(axis = 1)\n",
    "        #predictions['confidence'] = predictions[[1, 2, 3, 4]].max(axis = 1)\n",
    "        return predictions, feature_importances\n",
    "    \n",
    "    # Average the predictions over folds\n",
    "    #predictions = predictions.groupby('card_id', as_index = False).mean()\n",
    "    #print (predictions)\n",
    "    # Find the class and associated probability\n",
    "    #predictions['target'] = predictions[[1, 2, 3, 4]].idxmax(axis = 1)\n",
    "    #predictions['confidence'] = predictions[[1, 2, 3, 4]].max(axis = 1)\n",
    "    #predictions = predictions.drop(columns = ['fold'])\n",
    "    \n",
    "    # Merge with the base to have one prediction for each individual\n",
    "    #submission = submission_base.merge(predictions[['card_id', 'target']], on = 'card_id', how = 'left').drop(columns = ['card_id'])\n",
    "    # Fill in the individuals that do not have a head of household with 4 since these will not be scored\n",
    "    #submission['target'] = submission['target'].fillna(4).astype(np.int8)\n",
    "    \n",
    "    # return the submission and feature importances along with validation scores\n",
    "    return submission, feature_importances, valid_scores"
   ]
  },
  {
   "cell_type": "code",
   "execution_count": 93,
   "metadata": {},
   "outputs": [
    {
     "name": "stdout",
     "output_type": "stream",
     "text": [
      "Training until validation scores don't improve for 100 rounds.\n",
      "[200]\ttrain's l2: 2.81498\ttrain's l2: 2.81498\tvalid's l2: 2.85223\tvalid's l2: 2.85223\n",
      "[400]\ttrain's l2: 2.80626\ttrain's l2: 2.80626\tvalid's l2: 2.8521\tvalid's l2: 2.8521\n",
      "Early stopping, best iteration is:\n",
      "[332]\ttrain's l2: 2.80899\ttrain's l2: 2.80899\tvalid's l2: 2.85187\tvalid's l2: 2.85187\n"
     ]
    },
    {
     "data": {
      "text/plain": [
       "'Fold 1, Validation Score: 2.85187, Estimators Trained: 332'"
      ]
     },
     "metadata": {},
     "output_type": "display_data"
    },
    {
     "name": "stdout",
     "output_type": "stream",
     "text": [
      "Training until validation scores don't improve for 100 rounds.\n",
      "[200]\ttrain's l2: 2.82395\ttrain's l2: 2.82395\tvalid's l2: 2.81494\tvalid's l2: 2.81494\n",
      "Early stopping, best iteration is:\n",
      "[272]\ttrain's l2: 2.81938\ttrain's l2: 2.81938\tvalid's l2: 2.81475\tvalid's l2: 2.81475\n"
     ]
    },
    {
     "data": {
      "text/plain": [
       "'Fold 2, Validation Score: 2.81475, Estimators Trained: 272'"
      ]
     },
     "metadata": {},
     "output_type": "display_data"
    },
    {
     "name": "stdout",
     "output_type": "stream",
     "text": [
      "Training until validation scores don't improve for 100 rounds.\n",
      "[200]\ttrain's l2: 2.82174\ttrain's l2: 2.82174\tvalid's l2: 2.82531\tvalid's l2: 2.82531\n",
      "[400]\ttrain's l2: 2.8126\ttrain's l2: 2.8126\tvalid's l2: 2.82493\tvalid's l2: 2.82493\n",
      "Early stopping, best iteration is:\n",
      "[495]\ttrain's l2: 2.80524\ttrain's l2: 2.80524\tvalid's l2: 2.82465\tvalid's l2: 2.82465\n"
     ]
    },
    {
     "data": {
      "text/plain": [
       "'Fold 3, Validation Score: 2.82465, Estimators Trained: 495'"
      ]
     },
     "metadata": {},
     "output_type": "display_data"
    },
    {
     "name": "stdout",
     "output_type": "stream",
     "text": [
      "Training until validation scores don't improve for 100 rounds.\n",
      "[200]\ttrain's l2: 2.81313\ttrain's l2: 2.81313\tvalid's l2: 2.85935\tvalid's l2: 2.85935\n",
      "Early stopping, best iteration is:\n",
      "[128]\ttrain's l2: 2.81466\ttrain's l2: 2.81466\tvalid's l2: 2.85924\tvalid's l2: 2.85924\n"
     ]
    },
    {
     "data": {
      "text/plain": [
       "'Fold 4, Validation Score: 2.85924, Estimators Trained: 128'"
      ]
     },
     "metadata": {},
     "output_type": "display_data"
    },
    {
     "name": "stdout",
     "output_type": "stream",
     "text": [
      "Training until validation scores don't improve for 100 rounds.\n",
      "[200]\ttrain's l2: 2.82501\ttrain's l2: 2.82501\tvalid's l2: 2.8125\tvalid's l2: 2.8125\n",
      "Early stopping, best iteration is:\n",
      "[258]\ttrain's l2: 2.82105\ttrain's l2: 2.82105\tvalid's l2: 2.81218\tvalid's l2: 2.81218\n"
     ]
    },
    {
     "data": {
      "text/plain": [
       "'Fold 5, Validation Score: 2.81218, Estimators Trained: 258'"
      ]
     },
     "metadata": {},
     "output_type": "display_data"
    },
    {
     "data": {
      "text/plain": [
       "'5 cross validation score: 2.83254 with std: 0.01939.'"
      ]
     },
     "metadata": {},
     "output_type": "display_data"
    }
   ],
   "source": [
    "submission, feature_importances, valid_scores = model_gbm(train_selected, train_labels, test_selected, submission_df['card_id'], return_preds=False)"
   ]
  },
  {
   "cell_type": "code",
   "execution_count": 112,
   "metadata": {},
   "outputs": [
    {
     "data": {
      "text/plain": [
       "LGBMRegressor(boosting_type='dart', class_weight='balanced',\n",
       "       colsample_bytree=0.88, importance_type='split', learning_rate=0.028,\n",
       "       max_depth=-1, min_child_samples=10, min_child_weight=0.001,\n",
       "       min_split_gain=0.0, n_estimators=10000, n_jobs=-1, num_leaves=36,\n",
       "       objective='regression', random_state=10, reg_alpha=0.76,\n",
       "       reg_lambda=0.43, silent=True, subsample=0.54,\n",
       "       subsample_for_bin=40000, subsample_freq=0)"
      ]
     },
     "execution_count": 112,
     "metadata": {},
     "output_type": "execute_result"
    }
   ],
   "source": [
    "params = {'boosting_type': 'dart', \n",
    "                  'colsample_bytree': 0.88, \n",
    "                  'learning_rate': 0.028, \n",
    "                   'min_child_samples': 10, \n",
    "                   'num_leaves': 36, 'reg_alpha': 0.76, \n",
    "                   'reg_lambda': 0.43, \n",
    "                   'subsample_for_bin': 40000, \n",
    "                   'subsample': 0.54, \n",
    "                   'class_weight': 'balanced'}\n",
    "    \n",
    "    # Build the model\n",
    "model = lgb.LGBMRegressor(**params, objective = 'regression', n_jobs = -1, n_estimators = 10000,random_state = 10)\n",
    "model.fit(train_set, train_labels,verbose = 200)"
   ]
  },
  {
   "cell_type": "code",
   "execution_count": 101,
   "metadata": {},
   "outputs": [
    {
     "data": {
      "text/plain": [
       "LGBMRegressor(boosting_type='dart', class_weight='balanced',\n",
       "       colsample_bytree=0.88, importance_type='split', learning_rate=0.028,\n",
       "       max_depth=-1, min_child_samples=10, min_child_weight=0.001,\n",
       "       min_split_gain=0.0, n_estimators=10000, n_jobs=-1, num_leaves=36,\n",
       "       objective='regression', random_state=10, reg_alpha=0.76,\n",
       "       reg_lambda=0.43, silent=True, subsample=0.54,\n",
       "       subsample_for_bin=40000, subsample_freq=0)"
      ]
     },
     "execution_count": 101,
     "metadata": {},
     "output_type": "execute_result"
    }
   ],
   "source": [
    "model"
   ]
  },
  {
   "cell_type": "code",
   "execution_count": 113,
   "metadata": {},
   "outputs": [],
   "source": [
    "test_labels=model.predict(test_set)\n",
    "submission_df['target']=test_labels\n",
    "submission_df.target = submission_df.target.round(2)\n",
    "submission_df.to_csv('submission_5.csv',index=False)"
   ]
  },
  {
   "cell_type": "code",
   "execution_count": 104,
   "metadata": {},
   "outputs": [
    {
     "data": {
      "text/html": [
       "<div>\n",
       "<style scoped>\n",
       "    .dataframe tbody tr th:only-of-type {\n",
       "        vertical-align: middle;\n",
       "    }\n",
       "\n",
       "    .dataframe tbody tr th {\n",
       "        vertical-align: top;\n",
       "    }\n",
       "\n",
       "    .dataframe thead th {\n",
       "        text-align: right;\n",
       "    }\n",
       "</style>\n",
       "<table border=\"1\" class=\"dataframe\">\n",
       "  <thead>\n",
       "    <tr style=\"text-align: right;\">\n",
       "      <th></th>\n",
       "      <th>card_id</th>\n",
       "      <th>target</th>\n",
       "    </tr>\n",
       "  </thead>\n",
       "  <tbody>\n",
       "    <tr>\n",
       "      <th>20473</th>\n",
       "      <td>C_ID_84f721982b</td>\n",
       "      <td>2.13</td>\n",
       "    </tr>\n",
       "    <tr>\n",
       "      <th>49086</th>\n",
       "      <td>C_ID_c5f343ac31</td>\n",
       "      <td>2.06</td>\n",
       "    </tr>\n",
       "    <tr>\n",
       "      <th>73860</th>\n",
       "      <td>C_ID_591ae38574</td>\n",
       "      <td>2.44</td>\n",
       "    </tr>\n",
       "    <tr>\n",
       "      <th>79822</th>\n",
       "      <td>C_ID_1c9916a4d8</td>\n",
       "      <td>2.88</td>\n",
       "    </tr>\n",
       "    <tr>\n",
       "      <th>83041</th>\n",
       "      <td>C_ID_9c70210f86</td>\n",
       "      <td>2.37</td>\n",
       "    </tr>\n",
       "    <tr>\n",
       "      <th>92082</th>\n",
       "      <td>C_ID_7983dfa901</td>\n",
       "      <td>2.73</td>\n",
       "    </tr>\n",
       "    <tr>\n",
       "      <th>109720</th>\n",
       "      <td>C_ID_4a08435fbb</td>\n",
       "      <td>2.48</td>\n",
       "    </tr>\n",
       "    <tr>\n",
       "      <th>117839</th>\n",
       "      <td>C_ID_5f9c95fd1b</td>\n",
       "      <td>2.42</td>\n",
       "    </tr>\n",
       "    <tr>\n",
       "      <th>120136</th>\n",
       "      <td>C_ID_cc2ce74060</td>\n",
       "      <td>2.58</td>\n",
       "    </tr>\n",
       "    <tr>\n",
       "      <th>120225</th>\n",
       "      <td>C_ID_879379db88</td>\n",
       "      <td>2.57</td>\n",
       "    </tr>\n",
       "  </tbody>\n",
       "</table>\n",
       "</div>"
      ],
      "text/plain": [
       "                card_id  target\n",
       "20473   C_ID_84f721982b    2.13\n",
       "49086   C_ID_c5f343ac31    2.06\n",
       "73860   C_ID_591ae38574    2.44\n",
       "79822   C_ID_1c9916a4d8    2.88\n",
       "83041   C_ID_9c70210f86    2.37\n",
       "92082   C_ID_7983dfa901    2.73\n",
       "109720  C_ID_4a08435fbb    2.48\n",
       "117839  C_ID_5f9c95fd1b    2.42\n",
       "120136  C_ID_cc2ce74060    2.58\n",
       "120225  C_ID_879379db88    2.57"
      ]
     },
     "execution_count": 104,
     "metadata": {},
     "output_type": "execute_result"
    }
   ],
   "source": [
    "submission_df[submission_df['target']>2]"
   ]
  }
 ],
 "metadata": {
  "kernelspec": {
   "display_name": "Python 3",
   "language": "python",
   "name": "python3"
  },
  "language_info": {
   "codemirror_mode": {
    "name": "ipython",
    "version": 3
   },
   "file_extension": ".py",
   "mimetype": "text/x-python",
   "name": "python",
   "nbconvert_exporter": "python",
   "pygments_lexer": "ipython3",
   "version": "3.6.4"
  }
 },
 "nbformat": 4,
 "nbformat_minor": 2
}
